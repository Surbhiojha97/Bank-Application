{
 "cells": [
  {
   "cell_type": "code",
   "execution_count": 29,
   "id": "dfc3168c",
   "metadata": {},
   "outputs": [],
   "source": [
    "import pymysql as sql"
   ]
  },
  {
   "cell_type": "code",
   "execution_count": 30,
   "id": "93a31d6a",
   "metadata": {},
   "outputs": [],
   "source": [
    "conn = sql.connect(host='localhost',port = 3306 ,user = 'root' ,password='')"
   ]
  },
  {
   "cell_type": "code",
   "execution_count": 31,
   "id": "1e4cc05c",
   "metadata": {},
   "outputs": [
    {
     "data": {
      "text/plain": [
       "<pymysql.connections.Connection at 0x227df4555e0>"
      ]
     },
     "execution_count": 31,
     "metadata": {},
     "output_type": "execute_result"
    }
   ],
   "source": [
    "conn"
   ]
  },
  {
   "cell_type": "code",
   "execution_count": 32,
   "id": "5f690587",
   "metadata": {},
   "outputs": [],
   "source": [
    "cursor = conn.cursor()"
   ]
  },
  {
   "cell_type": "code",
   "execution_count": 33,
   "id": "53cee036",
   "metadata": {},
   "outputs": [
    {
     "data": {
      "text/plain": [
       "<pymysql.cursors.Cursor at 0x227df455130>"
      ]
     },
     "execution_count": 33,
     "metadata": {},
     "output_type": "execute_result"
    }
   ],
   "source": [
    "cursor"
   ]
  },
  {
   "cell_type": "code",
   "execution_count": 34,
   "id": "84ca2537",
   "metadata": {},
   "outputs": [
    {
     "data": {
      "text/plain": [
       "0"
      ]
     },
     "execution_count": 34,
     "metadata": {},
     "output_type": "execute_result"
    }
   ],
   "source": [
    "cursor.execute('use bank')"
   ]
  },
  {
   "cell_type": "code",
   "execution_count": 35,
   "id": "bc2061f3",
   "metadata": {},
   "outputs": [],
   "source": [
    "def create_database():\n",
    "    cmd = f\"create database BANK\"\n",
    "    cursor.execute(cmd)\n",
    "    conn.commit()\n",
    "    \n",
    "def create_table():\n",
    "    cmd = f\"Create table user(Account.no int primary key auto_increment,user_name varchar(200),password varchar(100),balance double)\"\n",
    "    cursor.execute(cmd)\n",
    "    conn.commit()\n",
    "    print(\"\\n Table named user is successfully created\")\n",
    "    \n",
    "def insert():\n",
    "    while input(\"\\nEnter any key-->\"):\n",
    "        user_name = input(\"\\nEnter name--->\")\n",
    "        Password = input(\"\\nEnter password--->\")\n",
    "        Acc = int(input(\"\\nEnter account number--->\"))\n",
    "        balance = int(input(\"\\nEnter amount in account--->\"))\n",
    "        cmd = f\"insert into user(Account_no,user_name,password,balance) values({Acc},'{use_name}','{password}',{balance})\"\n",
    "        cursor.execute(cmd)\n",
    "        conn.commit()\n",
    "        print(\"\\nData saved successfully!!\")\n",
    "\n",
    "def update_cred(): \n",
    "    cmd = f\"update user set updated_balance =balance+{amt} where {acc}=account_no\"\n",
    "    cursor.execute(cmd)\n",
    "    conn.commit()\n",
    "    a = cursor .execute(f\"select updated_balance from user where {acc} = account_no \")\n",
    "    b = cursor.fetchone()\n",
    "    conn.commit()\n",
    "    print(f\"Amount credited in account number {acc} is {amt} current balance is {b}\")\n",
    "    \n",
    "\n",
    "def update_deb():\n",
    "    cmd = f\"update user set updated_balance = balance-{amt} where updated_balance>{amt} and account_no\"\n",
    "    cursor.execute(cmd)\n",
    "    conn.commit()\n",
    "    a = cursor .execute(f\"select updated_balance from user where {acc} = account_no \")\n",
    "    b = cursor.fetchone()\n",
    "    conn.commit()\n",
    "    print(f\"Amount debited from account number {acc} is {amt} current balance is {b}\")\n",
    "    \n",
    "        \n",
    "def create_pass():\n",
    "    cmd = f\" update into user set password = {new_pass} where {new_pass}={c_pass} and account_no\"\n",
    "    cursor.execute(cmd)\n",
    "    conn.commit()\n",
    "    print(\"Succesfully updated your password!!\")\n",
    "     \n",
    "def new_user():\n",
    "    cmd = f\"insert into user(user_name,password,balance) values('{un}','{up}',{ub})\"\n",
    "    cursor.execute(cmd)\n",
    "    conn.commit()\n",
    "    \n",
    "def acc_info():\n",
    "    if usr == admin:\n",
    "        pss = getpass(\"\\nEnter Admin Password --> \")\n",
    "        if pss == passwd:\n",
    "            ad_acc = int(input(\"\\nEnter an Account Number to search --> \"))\n",
    "            cursor.execute(f\"select * from user where account_no = {ad_acc}\")\n",
    "            l = list(cursor.fetchall())\n",
    "            print(f\"\"\"       ***$$ ACCOUNT INFORMATION$$ ***\n",
    "                    1.Account Number----> {l[0][0]} \n",
    "                    2.Account Holder Name----> {l[0][1]} \n",
    "                    3.Account Password----> {l[0][2]} \n",
    "                    4.Initial Balance----> {l[0][3]} \n",
    "                    5.Current Balance----> {l[0][4]} \"\"\")\n",
    "            conn.commit() \n",
    "              \n",
    "        else:\n",
    "            print(\"\\nIncorrect Admin Password!!!\")\n",
    "    else:\n",
    "        print(\"\\nInvalid Admin User!!!\")\n",
    "            "
   ]
  },
  {
   "cell_type": "code",
   "execution_count": 68,
   "id": "e18903af",
   "metadata": {},
   "outputs": [
    {
     "data": {
      "text/plain": [
       "9"
      ]
     },
     "execution_count": 68,
     "metadata": {},
     "output_type": "execute_result"
    }
   ],
   "source": [
    "cursor.execute('select * from user')"
   ]
  },
  {
   "cell_type": "code",
   "execution_count": null,
   "id": "4a18fc65",
   "metadata": {},
   "outputs": [],
   "source": [
    "from getpass import getpass\n",
    "print(\"*\"*125)\n",
    "print(\"-\"*125)\n",
    "print(\"Welcome to Python Bank of India\".center(125))\n",
    "print(\"-\"*125)\n",
    "print(\"*\"*125)\n",
    "admin = 'root'\n",
    "passwd = 'redhat'\n",
    "while True:   \n",
    "    print(\"\\t$---Main Menu---$\")\n",
    "    print(\"\\n\\t1. Login\\n\\t2. Signup\\n\\t3. Admin\\n\\t4. Exit\")\n",
    "    ch = input(\"\\nEnter your choice (1|2|3|4) --> \") #for main menu\n",
    "    if ch == '1':\n",
    "        acc = int(input(\"\\nEnter Your Account Number --> \"))\n",
    "        passw = input(\"\\nEnter your password -->\")\n",
    "        cmd = f\"select account_no from user where {acc}=account_no\"\n",
    "        cursor.execute(cmd)\n",
    "        conn.commit()\n",
    "        while True:\n",
    "            print(\"\\t$---Login Menu---$\")\n",
    "            print(\"\\n\\t1. Credit\\n\\t2. Debit\\n\\t3. Create Password\\n\\t4. Check Balance\\n\\t5. Logout\")\n",
    "            l_ch = input(\"\\nEnter your Choice (1|2|3|4|5) --> \")\n",
    "                    \n",
    "            if l_ch == \"1\":\n",
    "                amt = int(input(\"\\nEnter the amount to Credit --> \"))\n",
    "                update_cred()\n",
    "                        \n",
    "            elif l_ch == \"2\":\n",
    "                amt = int(input(\"\\nEnter the amount to Debit --> \"))\n",
    "                update_deb()\n",
    "                        \n",
    "            elif l_ch == \"3\":\n",
    "                new_pass = getpass(\"\\nCreate a New Password --> \")\n",
    "                if len(new_pass)>=8:\n",
    "                    ss = ['@','#','&','*']\n",
    "                    a = 0,l==0,u==0,d==0,c==0\n",
    "                    for var in up:\n",
    "                        if var.isdigit:\n",
    "                            d+=1\n",
    "                        if var.islower:\n",
    "                            l+=1\n",
    "                        if var.isupper:\n",
    "                            u+=1\n",
    "                        if var.isalnum:\n",
    "                            a+=1\n",
    "                        if var in ss:\n",
    "                            c+=1\n",
    "                    if c>=1 and l>=1 and d>=1 and a>=1 and u>=1:\n",
    "                        c_pass = input(\"\\nConfirm your New Password --> \")\n",
    "                        if new_pass == c_pass:\n",
    "                            create_pass()\n",
    "                            print(f\"Your new password is {c_pass}\")\n",
    "                        else:\n",
    "                            print(\"Enter password again --> \")\n",
    "                    else:\n",
    "                        print(\"Invalid password\")\n",
    "                else:\n",
    "                    print(\"There must be atleast 8 character in password!!\")\n",
    "                        \n",
    "            elif l_ch == \"4\":\n",
    "                cmd = f\"select * from user where {acc}=account_no\"\n",
    "                cursor.execute(cmd)\n",
    "                data=cursor.fetchall()\n",
    "                print(\"Account no      |Initial Balance        |Updated Balance\")\n",
    "                print(f\"{data[0][0]:<5}\\t\\t|{data[0][3]:<5}\\t\\t|{data[0][4]:<5}\")\n",
    "                conn.commit()\n",
    "                        \n",
    "            elif l_ch == \"5\":\n",
    "                l_ch1 = input(\"\\nDo you really want to Logout -->\").lower()\n",
    "                if l_ch1 == \"yes\" or l_ch1 == 'y':\n",
    "                    print(\"\\nYou are successfully logged out!!\")\n",
    "                    break\n",
    "                else:\n",
    "                    continue\n",
    "                \n",
    "            else:\n",
    "                print(\"\\nInvalid choice!!\")\n",
    "    \n",
    "       \n",
    "    elif ch == '2':\n",
    "        print(\"\\nWelcome to SignUp!!\")\n",
    "        un = input(\"\\nEnter your UserName -->\")\n",
    "        ub = 0.0\n",
    "        up = getpass(\"\\nCreate a Password -->\")\n",
    "        #vp = input(\"\\nVerify Password --> \")\n",
    "        if len(up)>=8:\n",
    "            ss = ['@','#','&','*']\n",
    "            a==0,l==0,u==0,d==0,c==0\n",
    "            for var in up:\n",
    "                if var.isdigit:\n",
    "                    d+=1\n",
    "                if var.islower:\n",
    "                    l+=1\n",
    "                if var.isupper:\n",
    "                    u+=1\n",
    "                if var.isalnum:\n",
    "                    a+=1\n",
    "                if var in ss:\n",
    "                    c+=1                   \n",
    "                #else:\n",
    "                    #print(\"Invalid password!!\")\n",
    "            if a>=1 and l>=1 and u>=1 and d>=1 and c>=1:\n",
    "                vp = input(\"\\nConfirm your New Password --> \")\n",
    "                if up == vp:\n",
    "                    new_user()\n",
    "                    print(f\"\\nYou have been successfully Signed Up\\nNow you can Login\\nYour new password is {vp}\")\n",
    "                    \n",
    "                else:\n",
    "                    print(\"\\nPassword Doesnot Matched!!!\")\n",
    "            else:\n",
    "                print(\"Invalid password\")\n",
    "            \n",
    "        else:\n",
    "            print(\"There must be atleast 8 character in password!!\")\n",
    "        \n",
    "       \n",
    "    elif ch == '3':\n",
    "        usr = input(\"\\nEnter Admin Username --> \")\n",
    "        acc_info()\n",
    "        \n",
    "    elif ch == '4':\n",
    "        ch1 = input(\"\\nDo you really want to exit? (y/n) : \").lower() #for exit\n",
    "        if ch1 == 'yes' or ch1 == 'y':            \n",
    "            print(\"\\nThankYou For using Services!!!\")\n",
    "            break\n",
    "        else:\n",
    "            continue\n",
    "    else:\n",
    "        print(\"Invalid Choice!!!\")"
   ]
  },
  {
   "cell_type": "code",
   "execution_count": null,
   "id": "12583707",
   "metadata": {},
   "outputs": [],
   "source": []
  }
 ],
 "metadata": {
  "kernelspec": {
   "display_name": "Python 3 (ipykernel)",
   "language": "python",
   "name": "python3"
  },
  "language_info": {
   "codemirror_mode": {
    "name": "ipython",
    "version": 3
   },
   "file_extension": ".py",
   "mimetype": "text/x-python",
   "name": "python",
   "nbconvert_exporter": "python",
   "pygments_lexer": "ipython3",
   "version": "3.9.7"
  }
 },
 "nbformat": 4,
 "nbformat_minor": 5
}
